{
 "cells": [
  {
   "cell_type": "markdown",
   "metadata": {},
   "source": [
    "# Ejercicio1 - Utilizar operadores aritméticos"
   ]
  },
  {
   "cell_type": "code",
   "execution_count": 2,
   "metadata": {},
   "outputs": [
    {
     "name": "stdout",
     "output_type": "stream",
     "text": [
      "Distancia km: 628949330\n",
      "Distancia millas: 390577533.93\n"
     ]
    }
   ],
   "source": [
    "# Crear variables para almacenar las dos distancias\n",
    "distancia_1 = 149597870\n",
    "distancia_2 = 778547200\n",
    "\n",
    "# Calcular la distancia entre planetas\n",
    "distancia_km = abs(distancia_1 - distancia_2)\n",
    "distancia_millas = distancia_km * 0.621\n",
    "\n",
    "print('Distancia km: {0}\\nDistancia millas: {1}'.format(distancia_km, distancia_millas))"
   ]
  },
  {
   "cell_type": "markdown",
   "metadata": {},
   "source": [
    "# Ejercicio 2: convierte cadenas en números y usa valores absolutos"
   ]
  },
  {
   "cell_type": "code",
   "execution_count": 3,
   "metadata": {},
   "outputs": [
    {
     "name": "stdout",
     "output_type": "stream",
     "text": [
      "Distancia km: 50300000\n",
      "Distancia millas: 31236300.0\n"
     ]
    }
   ],
   "source": [
    "# Ejercicio 2: convierte cadenas en números y usa valores absolutos\n",
    "entrada_1 = input(\"Distancia #1 al sol:\")\n",
    "entrada_2 = input(\"Distancia #2 al sol:\")\n",
    "\n",
    "# Convierte las cadenas de ambos planetas a números enteros\n",
    "distancia_1 = int(entrada_1)\n",
    "distancia_2 = int(entrada_2)\n",
    "\n",
    "# Realizar el cálculo y determinar el valor absoluto\n",
    "distancia_km = abs(distancia_1 - distancia_2)\n",
    "\n",
    "# Convertir de KM a Millas\n",
    "distancia_millas = distancia_km * 0.621\n",
    "\n",
    "print('Distancia km: {0}\\nDistancia millas: {1}'.format(distancia_km, distancia_millas))\n"
   ]
  }
 ],
 "metadata": {
  "interpreter": {
   "hash": "b13a67859662d33283eb471efdf842eaf615fad612cff3b181a5ad324815a2f2"
  },
  "kernelspec": {
   "display_name": "Python 3.10.2 64-bit",
   "language": "python",
   "name": "python3"
  },
  "language_info": {
   "codemirror_mode": {
    "name": "ipython",
    "version": 3
   },
   "file_extension": ".py",
   "mimetype": "text/x-python",
   "name": "python",
   "nbconvert_exporter": "python",
   "pygments_lexer": "ipython3",
   "version": "3.10.2"
  },
  "orig_nbformat": 4
 },
 "nbformat": 4,
 "nbformat_minor": 2
}
