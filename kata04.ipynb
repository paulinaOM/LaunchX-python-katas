{
 "cells": [
  {
   "cell_type": "markdown",
   "metadata": {},
   "source": [
    "# Ejercicio 1"
   ]
  },
  {
   "cell_type": "code",
   "execution_count": null,
   "metadata": {},
   "outputs": [],
   "source": [
    "text = \"\"\"Interesting facts about the Moon. The Moon is Earth's only satellite. There are several interesting facts about the Moon and how it affects life here on Earth. \n",
    "On average, the Moon moves 4cm away from the Earth every year. This yearly drift is not significant enough to cause immediate effects on Earth. The highest daylight temperature of the Moon is 127 C.\"\"\"\n",
    "\n",
    "# Divide el texto en cada oración para trabajar con su contenido:\n",
    "sentences= text.split('.')\n",
    "\n",
    "# Define las palabras pista: average, temperature y distance suenan bien\n",
    "key_words = ['average', 'temperature', 'distance']\n",
    "\n",
    "# Ciclo for para recorrer la cadena\n",
    "for word in key_words:\n",
    "    for sentence in sentences:\n",
    "        if word in sentence:\n",
    "            print(sentence)\n",
    "\n",
    "# Ciclo para cambiar C a Celsius\n",
    "for word in key_words:\n",
    "    for sentence in sentences:\n",
    "        if word in sentence:\n",
    "            print(sentence.replace('C', 'Celsius'))"
   ]
  },
  {
   "cell_type": "markdown",
   "metadata": {},
   "source": [
    "# Ejercicio 2\n"
   ]
  },
  {
   "cell_type": "code",
   "execution_count": 18,
   "metadata": {},
   "outputs": [
    {
     "name": "stdout",
     "output_type": "stream",
     "text": [
      "ORIGINAL\n",
      "Gravity Facts About Moon\n",
      "----------------------------------------\n",
      "Planet Name: Earth\n",
      "Gravity on Moon: 1.6199999999999999 m/s2\n",
      "\n",
      "DATOS MODIFICADOS\n",
      "Gravity Facts About Moon\n",
      "----------------------------------------\n",
      "Planet Name: Earth\n",
      "Gravity on Moon: 1.6199999999999999 m/s2\n",
      "\n",
      "DATOS MODIFICADOS USANDO FORMAT\n",
      "Gravity Facts About Ganímedes\n",
      "----------------------------------------\n",
      "Planet Name: Mars\n",
      "Gravity on Ganímedes: 1.4300000000000002 m/s2\n",
      "\n"
     ]
    }
   ],
   "source": [
    "# Datos con los que vas a trabajar\n",
    "planet = \"Earth\"\n",
    "gravity = 0.00162 # in kms\n",
    "name = \"Moon\"\n",
    "\n",
    "# Creamos el título\n",
    "title = f'Gravity facts about {name}'.title()\n",
    "\n",
    "# Creamos la plantilla\n",
    "info = f'{\"-\"*40}\\nPlanet Name: {planet}\\nGravity on {name}: {gravity*1000} m/s2'\n",
    "template = '\\n'.join([title, info])\n",
    "print('ORIGINAL\\n'+template+'\\n')\n",
    "\n",
    "# Datos muestra, nuevos datos\n",
    "planet = \"Mars\"\n",
    "gravity = 0.00143 # in kms\n",
    "name = \"Ganímedes\"\n",
    "\n",
    "print('DATOS MODIFICADOS\\n'+template+'\\n')\n",
    "\n",
    "# Nueva plantilla\n",
    "gravity_mts = gravity*1000\n",
    "\n",
    "title = 'Gravity facts about {0}'.format(name).title()\n",
    "info = 'Planet Name: {0}\\nGravity on {1}: {2} m/s2'.format(planet, name, gravity_mts)\n",
    "line = '\\n'+'-'*40+'\\n'\n",
    "\n",
    "template = line.join([title, info])\n",
    "\n",
    "print('DATOS MODIFICADOS USANDO FORMAT\\n'+template+ '\\n')\n"
   ]
  }
 ],
 "metadata": {
  "interpreter": {
   "hash": "b13a67859662d33283eb471efdf842eaf615fad612cff3b181a5ad324815a2f2"
  },
  "kernelspec": {
   "display_name": "Python 3.10.2 64-bit",
   "language": "python",
   "name": "python3"
  },
  "language_info": {
   "codemirror_mode": {
    "name": "ipython",
    "version": 3
   },
   "file_extension": ".py",
   "mimetype": "text/x-python",
   "name": "python",
   "nbconvert_exporter": "python",
   "pygments_lexer": "ipython3",
   "version": "3.10.2"
  },
  "orig_nbformat": 4
 },
 "nbformat": 4,
 "nbformat_minor": 2
}
