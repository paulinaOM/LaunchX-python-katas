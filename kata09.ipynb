{
 "cells": [
  {
   "cell_type": "markdown",
   "metadata": {},
   "source": [
    "# Ejercicio: Uso de funciones en Python"
   ]
  },
  {
   "cell_type": "code",
   "execution_count": 10,
   "metadata": {},
   "outputs": [
    {
     "name": "stdout",
     "output_type": "stream",
     "text": [
      "\n",
      "    Lectura tanque 1: 30\n",
      "    Lecutra tanque 2: 300\n",
      "    Lecutra tanque 3: 30\n",
      "    Promedio: 120.0\n"
     ]
    }
   ],
   "source": [
    "# Función para leer 3 tanques de combustible y muestre el promedio\n",
    "def reporte_combustible(lectura1, lectura2, lectura3):\n",
    "    return f\"\"\"\n",
    "    Lectura tanque 1: {lectura1}\n",
    "    Lecutra tanque 2: {lectura2}\n",
    "    Lecutra tanque 3: {lectura3}\n",
    "    Promedio: {promedio(lectura1, lectura2, lectura3)}\"\"\"\n",
    "\n",
    "# Función promedio \n",
    "def promedio(*lecturas):\n",
    "    num_lecturas = len(lecturas)\n",
    "    return sum(lecturas)/num_lecturas\n",
    "\n",
    "# Llamamos a la función que genera el reporte print(funcion(tanque1, tanque2, tanque3))\n",
    "print(reporte_combustible(30, 300, 30))\n"
   ]
  },
  {
   "cell_type": "markdown",
   "metadata": {},
   "source": [
    "# Ejercicio 2: Trabajo con argumentos de palabra clave"
   ]
  },
  {
   "cell_type": "code",
   "execution_count": 11,
   "metadata": {},
   "outputs": [
    {
     "name": "stdout",
     "output_type": "stream",
     "text": [
      "\n",
      "    Mision con destino: Marte\n",
      "    Tiempo hacia el destino: 35 hr\n",
      "    Combustible total: 950000\n",
      "    \n"
     ]
    }
   ],
   "source": [
    "# Función con un informe preciso de la misión. Considera hora de prelanzamiento, \n",
    "# tiempo de vuelo, destino, tanque externo y tanque interno\n",
    "\n",
    "def informe_mision(tiempo_prelanzamiento, tiempo_vuelo, destino, tanque_externo,tanque_interno):\n",
    "    return f\"\"\"\n",
    "    Mision con destino: {destino}\n",
    "    Tiempo hacia el destino: {tiempo_prelanzamiento + tiempo_vuelo} min\n",
    "    Combustible total: {tanque_interno + tanque_externo}\n",
    "    \"\"\"\n",
    "\n",
    "print(informe_mision(11, 24, \"Marte\", 450000, 500000))\n",
    "\n"
   ]
  },
  {
   "cell_type": "code",
   "execution_count": 23,
   "metadata": {},
   "outputs": [
    {
     "name": "stdout",
     "output_type": "stream",
     "text": [
      "\n",
      "    Mision con destino: Marte\n",
      "    Tiempo hacia el destino: 45 minutos\n",
      "    Total en tanques de comustible: 950000 lts\n",
      "    \n"
     ]
    }
   ],
   "source": [
    "# Escribe tu nueva función de reporte considerando lo anterior\n",
    "def informe_mision(destino, *tiempo, **tanques):\n",
    "    return f\"\"\"\n",
    "    Mision con destino: {destino}\n",
    "    Tiempo hacia el destino: {sum(tiempo)} minutos\n",
    "    Total en tanques de comustible: {sum(tanques.values())} lts\n",
    "    \"\"\"\n",
    "\n",
    "print(informe_mision(\"Marte\", 11, 24, 10, tanque1=450000, tanque2=500000))"
   ]
  },
  {
   "cell_type": "code",
   "execution_count": 22,
   "metadata": {},
   "outputs": [
    {
     "name": "stdout",
     "output_type": "stream",
     "text": [
      "\n",
      "Mision con destino: Marte\n",
      "Tiempo hacia el destino: 45 minutos\n",
      "Total en tanques de comustible: 950000 lts\n",
      "Detalle tanques:\n",
      "Tanque tanque1: 450000 lts\n",
      "Tanque tanque2: 500000 lts\n",
      "\n"
     ]
    }
   ],
   "source": [
    "# Debido a que el combustible que queda en los tanques es específico de cada tanque, actualiza la función para usar el nombre de cada tanque en el informe:\n",
    "def informe_mision(destino, *tiempo, **tanques):\n",
    "    detalle_tanques = \"\"\n",
    "    for tanque, combustible in tanques.items():\n",
    "        detalle_tanques += f'Tanque {tanque}: {combustible} lts\\n'\n",
    "\n",
    "    reporte = f\"\"\"\n",
    "Mision con destino: {destino}\n",
    "Tiempo hacia el destino: {sum(tiempo)} minutos\n",
    "Total en tanques de comustible: {sum(tanques.values())} lts\n",
    "Detalle tanques:\n",
    "{detalle_tanques}\"\"\"\n",
    "\n",
    "    return reporte\n",
    "\n",
    "print(informe_mision(\"Marte\", 11, 24, 10, tanque1=450000, tanque2=500000))\n"
   ]
  }
 ],
 "metadata": {
  "interpreter": {
   "hash": "b13a67859662d33283eb471efdf842eaf615fad612cff3b181a5ad324815a2f2"
  },
  "kernelspec": {
   "display_name": "Python 3.10.2 64-bit",
   "language": "python",
   "name": "python3"
  },
  "language_info": {
   "codemirror_mode": {
    "name": "ipython",
    "version": 3
   },
   "file_extension": ".py",
   "mimetype": "text/x-python",
   "name": "python",
   "nbconvert_exporter": "python",
   "pygments_lexer": "ipython3",
   "version": "3.10.2"
  },
  "orig_nbformat": 4
 },
 "nbformat": 4,
 "nbformat_minor": 2
}
