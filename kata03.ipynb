{
 "cells": [
  {
   "cell_type": "code",
   "execution_count": null,
   "metadata": {},
   "outputs": [],
   "source": []
  },
  {
   "cell_type": "markdown",
   "metadata": {},
   "source": [
    "Añadir el código necesario para crear una variable que guarde la velocidad del asteroide.\n",
    "\n",
    "Escribe una expresión de prueba para calcular si necesita una advertencia.\n",
    "\n",
    "Agregue las instrucciones que se ejecutarán si la expresión de prueba es true o false."
   ]
  },
  {
   "cell_type": "code",
   "execution_count": 1,
   "metadata": {},
   "outputs": [
    {
     "name": "stdout",
     "output_type": "stream",
     "text": [
      "Advertencia. Asteroide acercandose rapidamente\n"
     ]
    }
   ],
   "source": [
    "vel_asteroide=49\n",
    "\n",
    "if vel_asteroide>25:\n",
    "    print(\"Advertencia. Asteroide acercandose rapidamente\")\n",
    "else:\n",
    "    print(\"No hay peligro\")\n"
   ]
  },
  {
   "cell_type": "markdown",
   "metadata": {},
   "source": [
    "Agrega el código para crear una variable para un asteroide que viaja a 19 km/s\n",
    "\n",
    "Escribe varias expresiones de prueba para determinar si puedes ver el rayo de luz desde la tierra\n",
    "\n",
    "Agrega las instrucciones que se ejecutarán si las expresiones de prueba son True o False"
   ]
  },
  {
   "cell_type": "code",
   "execution_count": null,
   "metadata": {},
   "outputs": [],
   "source": [
    "vel_asteroide=19\n",
    "\n",
    "if vel_asteroide>20:\n",
    "    print(\"Rayo de luz del asteroide es visible desde la tierra\")\n",
    "elif vel_asteroide==20:\n",
    "    print(\"Rayo de luz del asteroide es visible desde la tierra\")\n",
    "else:\n",
    "    print(\"Asteroide no visible\")\n"
   ]
  },
  {
   "cell_type": "markdown",
   "metadata": {},
   "source": [
    "Agrega el código para crear nuevas variables para la velocidad y el tamaño del asteroide\n",
    "\n",
    "Para probar el código, prueba con varias velocidades y tamaños\n",
    "\n",
    "Escribe varias expresiones de prueba o combinaciones de expresiones de prueba para determinar qué mensaje se debe enviar a Tierra."
   ]
  },
  {
   "cell_type": "code",
   "execution_count": 4,
   "metadata": {},
   "outputs": [
    {
     "name": "stdout",
     "output_type": "stream",
     "text": [
      "Rayo de luz del asteroide visible desde la tierra\n"
     ]
    }
   ],
   "source": [
    "vel_asteroide = 20\n",
    "tam_asteroide = 40\n",
    "\n",
    "if tam_asteroide>25 and vel_asteroide>25:\n",
    "    print(\"Advertencia. Asteroide gigante acercandose rapidamente\")\n",
    "elif tam_asteroide<25:\n",
    "    print(\"El asteroide se quemara al entrar a la amosfera de la Tierra\")\n",
    "elif vel_asteroide>=20:\n",
    "    print(\"Rayo de luz del asteroide visible desde la tierra\")\n",
    "else:\n",
    "    print(\"Asteroide no visible\")\n"
   ]
  }
 ],
 "metadata": {
  "interpreter": {
   "hash": "b13a67859662d33283eb471efdf842eaf615fad612cff3b181a5ad324815a2f2"
  },
  "kernelspec": {
   "display_name": "Python 3.10.2 64-bit",
   "language": "python",
   "name": "python3"
  },
  "language_info": {
   "codemirror_mode": {
    "name": "ipython",
    "version": 3
   },
   "file_extension": ".py",
   "mimetype": "text/x-python",
   "name": "python",
   "nbconvert_exporter": "python",
   "pygments_lexer": "ipython3",
   "version": "3.10.2"
  },
  "orig_nbformat": 4
 },
 "nbformat": 4,
 "nbformat_minor": 2
}
